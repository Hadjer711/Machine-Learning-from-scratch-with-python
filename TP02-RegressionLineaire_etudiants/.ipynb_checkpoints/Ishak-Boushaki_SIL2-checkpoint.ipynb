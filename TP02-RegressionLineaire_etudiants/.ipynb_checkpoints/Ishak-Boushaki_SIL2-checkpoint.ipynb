{
 "cells": [
  {
   "cell_type": "markdown",
   "metadata": {},
   "source": [
    "# TP 02 : Régression linéaire \n"
   ]
  },
  {
   "cell_type": "markdown",
   "metadata": {},
   "source": [
    "## I Régression linéaire à une seule variable \n",
    "Dans cette partie, on commence par implémenter la régression linéaire avec une seule variable de prédiction (predictor). Nous allons donc essayer de résoudre le fameux problème de prédiction du prix d'une maison en connaissant sa superficie. \n",
    "\n",
    "### I.1 Préparation des données"
   ]
  },
  {
   "cell_type": "code",
   "execution_count": 1,
   "metadata": {},
   "outputs": [],
   "source": [
    "# -*- coding: utf-8 -*-\n",
    "import numpy as np\n",
    "import pandas as pd \n",
    "import matplotlib.pyplot as plt \n",
    "%matplotlib inline"
   ]
  },
  {
   "cell_type": "markdown",
   "metadata": {},
   "source": [
    "#### I.1.1 Lecture des données"
   ]
  },
  {
   "cell_type": "code",
   "execution_count": 2,
   "metadata": {},
   "outputs": [
    {
     "data": {
      "text/html": [
       "<div>\n",
       "<style scoped>\n",
       "    .dataframe tbody tr th:only-of-type {\n",
       "        vertical-align: middle;\n",
       "    }\n",
       "\n",
       "    .dataframe tbody tr th {\n",
       "        vertical-align: top;\n",
       "    }\n",
       "\n",
       "    .dataframe thead th {\n",
       "        text-align: right;\n",
       "    }\n",
       "</style>\n",
       "<table border=\"1\" class=\"dataframe\">\n",
       "  <thead>\n",
       "    <tr style=\"text-align: right;\">\n",
       "      <th></th>\n",
       "      <th>Superficie</th>\n",
       "      <th>Prix</th>\n",
       "    </tr>\n",
       "  </thead>\n",
       "  <tbody>\n",
       "    <tr>\n",
       "      <td>0</td>\n",
       "      <td>2104</td>\n",
       "      <td>399900</td>\n",
       "    </tr>\n",
       "    <tr>\n",
       "      <td>1</td>\n",
       "      <td>1600</td>\n",
       "      <td>329900</td>\n",
       "    </tr>\n",
       "    <tr>\n",
       "      <td>2</td>\n",
       "      <td>2400</td>\n",
       "      <td>369000</td>\n",
       "    </tr>\n",
       "    <tr>\n",
       "      <td>3</td>\n",
       "      <td>1416</td>\n",
       "      <td>232000</td>\n",
       "    </tr>\n",
       "    <tr>\n",
       "      <td>4</td>\n",
       "      <td>3000</td>\n",
       "      <td>539900</td>\n",
       "    </tr>\n",
       "  </tbody>\n",
       "</table>\n",
       "</div>"
      ],
      "text/plain": [
       "   Superficie    Prix\n",
       "0        2104  399900\n",
       "1        1600  329900\n",
       "2        2400  369000\n",
       "3        1416  232000\n",
       "4        3000  539900"
      ]
     },
     "execution_count": 2,
     "metadata": {},
     "output_type": "execute_result"
    }
   ],
   "source": [
    "header = [\"Superficie\", \"Prix\"]\n",
    "houses = pd.read_csv(\"datasets/houses.csv\", names=header)\n",
    "houses.head()"
   ]
  },
  {
   "cell_type": "code",
   "execution_count": 3,
   "metadata": {},
   "outputs": [
    {
     "data": {
      "text/html": [
       "<div>\n",
       "<style scoped>\n",
       "    .dataframe tbody tr th:only-of-type {\n",
       "        vertical-align: middle;\n",
       "    }\n",
       "\n",
       "    .dataframe tbody tr th {\n",
       "        vertical-align: top;\n",
       "    }\n",
       "\n",
       "    .dataframe thead th {\n",
       "        text-align: right;\n",
       "    }\n",
       "</style>\n",
       "<table border=\"1\" class=\"dataframe\">\n",
       "  <thead>\n",
       "    <tr style=\"text-align: right;\">\n",
       "      <th></th>\n",
       "      <th>Superficie</th>\n",
       "      <th>Prix</th>\n",
       "    </tr>\n",
       "  </thead>\n",
       "  <tbody>\n",
       "    <tr>\n",
       "      <td>count</td>\n",
       "      <td>47.000000</td>\n",
       "      <td>47.000000</td>\n",
       "    </tr>\n",
       "    <tr>\n",
       "      <td>mean</td>\n",
       "      <td>2000.680851</td>\n",
       "      <td>340412.659574</td>\n",
       "    </tr>\n",
       "    <tr>\n",
       "      <td>std</td>\n",
       "      <td>794.702354</td>\n",
       "      <td>125039.899586</td>\n",
       "    </tr>\n",
       "    <tr>\n",
       "      <td>min</td>\n",
       "      <td>852.000000</td>\n",
       "      <td>169900.000000</td>\n",
       "    </tr>\n",
       "    <tr>\n",
       "      <td>25%</td>\n",
       "      <td>1432.000000</td>\n",
       "      <td>249900.000000</td>\n",
       "    </tr>\n",
       "    <tr>\n",
       "      <td>50%</td>\n",
       "      <td>1888.000000</td>\n",
       "      <td>299900.000000</td>\n",
       "    </tr>\n",
       "    <tr>\n",
       "      <td>75%</td>\n",
       "      <td>2269.000000</td>\n",
       "      <td>384450.000000</td>\n",
       "    </tr>\n",
       "    <tr>\n",
       "      <td>max</td>\n",
       "      <td>4478.000000</td>\n",
       "      <td>699900.000000</td>\n",
       "    </tr>\n",
       "  </tbody>\n",
       "</table>\n",
       "</div>"
      ],
      "text/plain": [
       "        Superficie           Prix\n",
       "count    47.000000      47.000000\n",
       "mean   2000.680851  340412.659574\n",
       "std     794.702354  125039.899586\n",
       "min     852.000000  169900.000000\n",
       "25%    1432.000000  249900.000000\n",
       "50%    1888.000000  299900.000000\n",
       "75%    2269.000000  384450.000000\n",
       "max    4478.000000  699900.000000"
      ]
     },
     "execution_count": 3,
     "metadata": {},
     "output_type": "execute_result"
    }
   ],
   "source": [
    "houses.describe()"
   ]
  },
  {
   "cell_type": "markdown",
   "metadata": {},
   "source": [
    "##### I.1.2 Normalisation \n",
    "La normalisation est la mise à echelle des valeurs des caractéristiques. Exemple simple de but : En calculant la distance euclidienne une des caracteristiques va avoir plus d'effet sur le résultat si ses valeurs sont beaucoup plus grandes que celle de l'autre variable. "
   ]
  },
  {
   "cell_type": "code",
   "execution_count": 4,
   "metadata": {},
   "outputs": [
    {
     "data": {
      "text/plain": [
       "(array([[ 0.        , -1.35873244],\n",
       "        [-1.22474487,  1.01904933],\n",
       "        [ 1.22474487,  0.33968311]]),\n",
       " array([2., 7.]),\n",
       " array([0.81649658, 2.94392029]))"
      ]
     },
     "execution_count": 4,
     "metadata": {},
     "output_type": "execute_result"
    }
   ],
   "source": [
    "# Normalisation\n",
    "# la fonction qui applique le Z-score sur une matrice \n",
    "# La fonction doit retourner 3 résultats \n",
    "# 1: la matrice normalisée, 2: la moyenne, 3: la déviation standard \n",
    "def normalise(X): \n",
    "    mean = np.mean(X, axis=0)\n",
    "    std = np.std(X, axis=0)\n",
    "    return (X-mean)/std, mean, std\n",
    "\n",
    "\n",
    "# Doit afficher: \n",
    "\"\"\"\n",
    "(array([[ 0.        , -1.35873244],\n",
    "        [-1.22474487,  1.01904933],\n",
    "        [ 1.22474487,  0.33968311]]),\n",
    " array([2., 7.]),\n",
    " array([0.81649658, 2.94392029]))\n",
    "\"\"\"\n",
    "normalise([[2., 3.], [1., 10.], [3., 8]])\n"
   ]
  },
  {
   "cell_type": "markdown",
   "metadata": {},
   "source": [
    "##### I.1.3 Fractionnement des données \n",
    "Ici, on va diviser les données en données de test et d'entrainnement \n",
    "\n",
    "On prend juste les 7 dernières ligne pour le  test "
   ]
  },
  {
   "cell_type": "code",
   "execution_count": 5,
   "metadata": {},
   "outputs": [
    {
     "data": {
      "text/plain": [
       "((39, 1), (39,), (8, 1), (8,))"
      ]
     },
     "execution_count": 5,
     "metadata": {},
     "output_type": "execute_result"
    }
   ],
   "source": [
    "# Extraction des caractéristiques \n",
    "def fractionner(df):\n",
    "    X = df.iloc[:, :-1].values # Premières colonnes \n",
    "    Y = df.iloc[:,-1].values # Dernière colonne \n",
    "    # On définit la matrice X comme etant la supérficie concatenée à un vecteur de 1 \n",
    "    # pour faciliter l'algorithme pour theta0 \n",
    "    return X, Y\n",
    "\n",
    "# Randomization des données pour marquer les 80% lignes\n",
    "msk = np.random.rand(len(houses)) < 0.8 \n",
    "\n",
    "X_train, Y_train = fractionner(houses[msk])\n",
    "X_test, Y_test = fractionner(houses[~msk])\n",
    "\n",
    "X_train.shape, Y_train.shape, X_test.shape, Y_test.shape"
   ]
  },
  {
   "cell_type": "code",
   "execution_count": 7,
   "metadata": {},
   "outputs": [
    {
     "data": {
      "image/png": "[encoded data removed]",
      "text/plain": [
       "<Figure size 432x288 with 1 Axes>"
      ]
     },
     "metadata": {
      "needs_background": "light"
     },
     "output_type": "display_data"
    }
   ],
   "source": [
    "# Les données d'entrainnement en bleu\n",
    "plt.scatter(X_train, Y_train, color=\"blue\")\n",
    "# Les données de test en rouge\n",
    "plt.scatter(X_test, Y_test, color=\"red\")\n",
    "plt.xlabel('Superficie')\n",
    "plt.ylabel('Prix')\n",
    "plt.show()"
   ]
  },
  {
   "cell_type": "markdown",
   "metadata": {},
   "source": [
    "### I.2 Descente du gradient \n",
    "\n",
    "#### I.2.1 Définir les paramètres"
   ]
  },
  {
   "cell_type": "code",
   "execution_count": 8,
   "metadata": {},
   "outputs": [
    {
     "data": {
      "text/plain": [
       "array([0.24877087, 0.871004  ])"
      ]
     },
     "execution_count": 8,
     "metadata": {},
     "output_type": "execute_result"
    }
   ],
   "source": [
    "# Définir les hyperparamétres : \n",
    "LEARNING_RATE = 0.01 \n",
    "NB_ITER = 500\n",
    "\n",
    "# TODO :  Initialiser aléatoirement les paramètres :\n",
    "## theta est une liste contenant les paramètres theta (le nombre des colonnes)\n",
    "#des caractéristiques de X + 1 (pour theta0)\n",
    "theta = np.random.rand(X_train.shape[1]+1)\n",
    "# Affichage des paramètres initiales (5 premières lignes)\n",
    "theta\n"
   ]
  },
  {
   "cell_type": "markdown",
   "metadata": {},
   "source": [
    "#### I.2.2 Définir les fonctions nécessaires pour la regression linéaire"
   ]
  },
  {
   "cell_type": "code",
   "execution_count": 10,
   "metadata": {},
   "outputs": [
    {
     "data": {
      "text/plain": [
       "array([2.75, 5.25, 4.25])"
      ]
     },
     "execution_count": 10,
     "metadata": {},
     "output_type": "execute_result"
    }
   ],
   "source": [
    "# TODO: Prédire la valeur : \n",
    "def predire(X, theta):\n",
    "    return np.dot(X,theta)\n",
    "\n",
    "# tester la prédiction \n",
    "X_t = np.array([[1., 5.], [1., 10.], [1., 8]])\n",
    "theta_t = np.array([0.25, 0.5])\n",
    "# Le résulat doit être\n",
    "\"\"\"\n",
    "array([2.75, 5.25, 4.25])\n",
    "\"\"\"\n",
    "predire(X_t, theta_t)"
   ]
  },
  {
   "cell_type": "code",
   "execution_count": 11,
   "metadata": {},
   "outputs": [
    {
     "data": {
      "text/plain": [
       "0.03125"
      ]
     },
     "execution_count": 11,
     "metadata": {},
     "output_type": "execute_result"
    }
   ],
   "source": [
    "# TODO: Définir la fonction de cout : \n",
    "def J(X, Y, theta):\n",
    "   \n",
    "    error = predire(X, theta) - Y\n",
    "    m= Y.size\n",
    "    cost = 1/(2*m) * np.dot(error.T, error)\n",
    "    return cost\n",
    "\n",
    "# tester le cout \n",
    "X_t = np.array([[1., 5.], [1., 10.], [1., 8]])\n",
    "theta_t = np.array([0.25, 0.5])\n",
    "Y_t = np.array([3., 5., 4.5])\n",
    "# Le résulat doit être ((3-2.75)^2 + (5-5.25)^2 + (4.5-4.25)^2))/6\n",
    "\"\"\"\n",
    "0.03125\n",
    "\"\"\"\n",
    "J(X_t, Y_t, theta_t)"
   ]
  },
  {
   "cell_type": "code",
   "execution_count": 12,
   "metadata": {},
   "outputs": [
    {
     "data": {
      "text/plain": [
       "array([-0.08333333, -0.25      ])"
      ]
     },
     "execution_count": 12,
     "metadata": {},
     "output_type": "execute_result"
    }
   ],
   "source": [
    "\n",
    "# TODO: Définir la fonction de gradient :\n",
    "def gradient(X, Y, theta):\n",
    "    error = predire(X, theta) - Y\n",
    "    gradient = (1/Y.size) * np.dot(X.T, error)\n",
    "    return gradient\n",
    "# Tester le gradient, le résultat doit être\n",
    "\"\"\"\n",
    "array([-0.08333333, -0.25      ])\n",
    "\"\"\"\n",
    "gradient(X_t, Y_t, theta_t)"
   ]
  },
  {
   "cell_type": "code",
   "execution_count": 13,
   "metadata": {},
   "outputs": [
    {
     "data": {
      "image/png": "[encoded data removed]",
      "text/plain": [
       "<Figure size 432x288 with 1 Axes>"
      ]
     },
     "metadata": {
      "needs_background": "light"
     },
     "output_type": "display_data"
    }
   ],
   "source": [
    "def afficher_droite(X, Y, theta):\n",
    "    plt.scatter(X[:,1], Y, color=\"blue\")\n",
    "    plt.plot(X[:,1], predire(X, theta), color=\"red\")\n",
    "    plt.show()\n",
    "# tester avec X_t et Y_t\n",
    "afficher_droite(X_t, Y_t, theta_t)"
   ]
  },
  {
   "cell_type": "code",
   "execution_count": 14,
   "metadata": {},
   "outputs": [
    {
     "data": {
      "image/png": "[encoded data removed]",
      "text/plain": [
       "<Figure size 432x288 with 1 Axes>"
      ]
     },
     "metadata": {
      "needs_background": "light"
     },
     "output_type": "display_data"
    },
    {
     "data": {
      "image/png": "[encoded data removed]",
      "text/plain": [
       "<Figure size 432x288 with 1 Axes>"
      ]
     },
     "metadata": {
      "needs_background": "light"
     },
     "output_type": "display_data"
    },
    {
     "data": {
      "text/plain": [
       "(array([0.25202765, 0.50363117]),\n",
       " [0.03125, 0.030768749999999997, 0.030682227021604936])"
      ]
     },
     "execution_count": 14,
     "metadata": {},
     "output_type": "execute_result"
    }
   ],
   "source": [
    "# TODO : Définir la déscente du gradient\n",
    "# Cette fonction doit afficher \n",
    "def gradient_descent(X, Y, theta, nb_iter, learning_rate, affich = True):\n",
    "    couts = []\n",
    "    theta1 = theta.copy()\n",
    "    \n",
    "    if (affich):\n",
    "        afficher_droite(X, Y, theta1)\n",
    "    \n",
    "    # TODO Définir l'algorithme de la descente de gradient :\n",
    "    for i in range(nb_iter):\n",
    "        cout=J(X, Y, theta1)\n",
    "        couts.append(cout)\n",
    "        theta1=theta1- learning_rate*gradient(X, Y, theta1)\n",
    "        \n",
    "        \n",
    "    if(affich):\n",
    "        afficher_droite(X, Y, theta1)\n",
    "\n",
    "    return theta1, couts\n",
    "\n",
    "# Tester la fonction\n",
    "#array([0.25202765, 0.50363117])\n",
    "# [0.03125, 0.030768749999999997, 0.030682227021604936])\n",
    "gradient_descent(X_t, Y_t, theta_t, 3, LEARNING_RATE, affich=True)"
   ]
  },
  {
   "cell_type": "code",
   "execution_count": 15,
   "metadata": {},
   "outputs": [
    {
     "data": {
      "text/plain": [
       "array([0.25, 0.5 ])"
      ]
     },
     "execution_count": 15,
     "metadata": {},
     "output_type": "execute_result"
    }
   ],
   "source": [
    "theta_t"
   ]
  },
  {
   "cell_type": "markdown",
   "metadata": {},
   "source": [
    "#### I.2.3  Appliquer la descente sur nos données \n",
    "Lorsqu'on applique le code suivant, on aura un problème\n",
    "\n",
    "**Question** : Quel est le problème ?\n",
    "Régler le"
   ]
  },
  {
   "cell_type": "code",
   "execution_count": 16,
   "metadata": {},
   "outputs": [
    {
     "data": {
      "text/plain": [
       "dtype('float64')"
      ]
     },
     "execution_count": 16,
     "metadata": {},
     "output_type": "execute_result"
    }
   ],
   "source": [
    "X_t.dtype"
   ]
  },
  {
   "cell_type": "markdown",
   "metadata": {},
   "source": [
    "**Réponse (Quel est le problème)** : "
   ]
  },
  {
   "cell_type": "markdown",
   "metadata": {},
   "source": [
    "On doit normaliser les donnée ainsi que rajouter des 1 (bias) dans la matrice X afin de permettre a la courbe d'hypothése de mieux approcher nos données, car sans le bias celle ci ne peut faire que des rotation sur l\"origine (fonction de la forme y=ax au lieu de y=ax+b) "
   ]
  },
  {
   "cell_type": "code",
   "execution_count": 17,
   "metadata": {},
   "outputs": [
    {
     "data": {
      "image/png": "[encoded data removed]",
      "text/plain": [
       "<Figure size 432x288 with 1 Axes>"
      ]
     },
     "metadata": {
      "needs_background": "light"
     },
     "output_type": "display_data"
    },
    {
     "data": {
      "image/png": "[encoded data removed]",
      "text/plain": [
       "<Figure size 432x288 with 1 Axes>"
      ]
     },
     "metadata": {
      "needs_background": "light"
     },
     "output_type": "display_data"
    },
    {
     "name": "stdout",
     "output_type": "stream",
     "text": [
      "Thetas optimaux :  [338221.89418565 113757.7309712 ]\n",
      "2318797721.282848\n"
     ]
    }
   ],
   "source": [
    "#TODO: avant d'appliquer le gradient, il faut faire un traitement \n",
    "if(X_train.shape[1]==1):\n",
    "    X_train,_,_=normalise(X_train)\n",
    "\n",
    "# Ajouter les 1\n",
    "ones = np.ones([X_train.shape[0],1])\n",
    "\n",
    "if X_train.shape[1]==1:\n",
    "    X_train = np.concatenate((ones, X_train), axis=1)    \n",
    "\n",
    "\n",
    "theta_optimaux, couts = gradient_descent(X_train, Y_train, theta, NB_ITER, LEARNING_RATE)\n",
    "\n",
    "print(\"Thetas optimaux : \", theta_optimaux)\n",
    "print(couts[-1])\n"
   ]
  },
  {
   "cell_type": "code",
   "execution_count": 18,
   "metadata": {},
   "outputs": [
    {
     "data": {
      "image/png": "[encoded data removed]",
      "text/plain": [
       "<Figure size 432x288 with 1 Axes>"
      ]
     },
     "metadata": {
      "needs_background": "light"
     },
     "output_type": "display_data"
    }
   ],
   "source": [
    "plt.plot(couts)\n",
    "plt.show()"
   ]
  },
  {
   "cell_type": "markdown",
   "metadata": {},
   "source": [
    "**Question 1** : \n",
    "\n",
    "Pour cette exemple, quel est selon vous le nombre d'itérations nécessaires pour obtenir la convergence dans l'algorithme de la descente du gradient ? \n"
   ]
  },
  {
   "cell_type": "markdown",
   "metadata": {},
   "source": [
    "**Réponse 1** :\n",
    "Selon la courbe des couts ci-dessus environs 250 itérations sont largement suffisantes, meme 200 peuvent faire l'affaire "
   ]
  },
  {
   "cell_type": "markdown",
   "metadata": {},
   "source": [
    "**Question2** : \n",
    "\n",
    "Modifier le code de la décente du gradient pour sortir de la boucle (avant que le nombre des itérations soit fini) lorsque l'erreur ne s'améliore plus. \n",
    "\n",
    "Pour ce faire, on calcul un taux de changement et on le compare avec un seuil de changement."
   ]
  },
  {
   "cell_type": "code",
   "execution_count": 19,
   "metadata": {},
   "outputs": [
    {
     "name": "stdout",
     "output_type": "stream",
     "text": [
      "66828176232.13899\n",
      "66828176232.13899\n",
      "65544383051.50949\n",
      "64286137355.17453\n",
      "63052930748.19661\n",
      "61844264952.69756\n",
      "60659651606.528946\n",
      "59498612065.949066\n",
      "58360677212.226746\n",
      "57245387262.09348\n",
      "56152291581.967896\n",
      "55080948505.87679\n",
      "54030925156.9999\n",
      "53001797272.76567\n",
      "51993149033.42769\n",
      "51004572894.05254\n",
      "50035669419.85096\n",
      "49086047124.78599\n",
      "48155322313.3928\n",
      "47243118925.746346\n",
      "46349068385.51406\n",
      "45472809451.03239\n",
      "44613988069.3469\n",
      "43772257233.15696\n",
      "42947276840.6072\n",
      "42138713557.86918\n",
      "41346240684.457634\n",
      "40569538021.22699\n",
      "39808291740.99464\n",
      "39062194261.73891\n",
      "38330944122.32036\n",
      "37614245860.67625\n",
      "36911809894.43885\n",
      "36223352403.92957\n",
      "35548595217.48143\n",
      "34887265699.04362\n",
      "34239096638.02271\n",
      "33603826141.316116\n",
      "32981197527.493988\n",
      "32370959223.086918\n",
      "31772864660.937553\n",
      "31186672180.574955\n",
      "30612144930.57157\n",
      "30049050772.843254\n",
      "29497162188.85374\n",
      "28956256187.685608\n",
      "28426114215.940716\n",
      "27906522069.433563\n",
      "27397269806.6419\n",
      "26898151663.879784\n",
      "26408965972.158634\n",
      "25929515075.702744\n",
      "25459605252.08632\n",
      "24999046633.95986\n",
      "24547653132.334126\n",
      "24105242361.39073\n",
      "23671635564.78912\n",
      "23246657543.43988\n",
      "22830136584.715485\n",
      "22421904393.069706\n",
      "22021796022.037678\n",
      "21629649807.58919\n",
      "21245307302.808224\n",
      "20868613213.872406\n",
      "20499415337.3064\n",
      "20137564498.484066\n",
      "19782914491.354298\n",
      "19435322019.36641\n",
      "19094646637.57108\n",
      "18760750695.87347\n",
      "18433499283.41565\n",
      "18112760174.06574\n",
      "17798403772.991894\n",
      "17490303064.299416\n",
      "17188333559.709915\n",
      "16892373248.261745\n",
      "16602302547.011398\n",
      "16318004252.715935\n",
      "16039363494.476948\n",
      "15766267687.326916\n",
      "15498606486.739176\n",
      "15236271744.043127\n",
      "14979157462.72673\n",
      "14727159755.608526\n",
      "14480176802.861979\n",
      "14238108810.875088\n",
      "14000857971.928732\n",
      "13768328424.677414\n",
      "13540426215.416391\n",
      "13317059260.119665\n",
      "13098137307.233343\n",
      "12883571901.20946\n",
      "12673276346.765453\n",
      "12467165673.854883\n",
      "12265156603.33523\n",
      "12067167513.318922\n",
      "11873118406.193937\n",
      "11682930876.300735\n",
      "11496528078.25241\n",
      "11313834695.88525\n",
      "11134776911.827196\n",
      "10959282377.671896\n",
      "10787280184.746284\n",
      "10618700835.459894\n",
      "10453476215.224302\n",
      "10291539564.931398\n",
      "10132825453.979322\n",
      "9977269753.835196\n",
      "9824809612.123936\n",
      "9675383427.232733\n",
      "9528930823.42086\n",
      "9385392626.424845\n",
      "9244710839.549053\n",
      "9106828620.232084\n",
      "8971690257.079525\n",
      "8839241147.353703\n",
      "8709427774.911427\n",
      "8582197688.5807495\n",
      "8457499480.968052\n",
      "8335282767.686849\n",
      "8215498166.99994\n",
      "8098097279.866702\n",
      "7983032670.387415\n",
      "7870257846.636764\n",
      "7759727241.878755\n",
      "7651396196.155427\n",
      "7545220938.241995\n",
      "7441158567.9610405\n",
      "7339167038.84868\n",
      "7239205141.165652\n",
      "7141232485.246514\n",
      "7045209485.180169\n",
      "6951097342.8151455\n",
      "6858858032.083183\n",
      "6768454283.6347885\n",
      "6679849569.780517\n",
      "6593008089.731945\n",
      "6507894755.13634\n",
      "6424475175.899188\n",
      "6342715646.288855\n",
      "6262583131.317766\n",
      "6184045253.394607\n",
      "6107070279.242114\n",
      "6031627107.075256\n",
      "5957685254.034521\n",
      "5885214843.869294\n",
      "5814186594.866355\n",
      "5744571808.018577\n",
      "5676342355.4290695\n",
      "5609470668.946093\n",
      "5543929729.024127\n",
      "5479693053.806606\n",
      "5416734688.425915\n",
      "5355029194.516301\n",
      "5294551639.935486\n",
      "5235277588.690829\n",
      "5177183091.065945\n",
      "5120244673.943791\n",
      "5064439331.322369\n",
      "5009744515.019113\n",
      "4956138125.560293\n",
      "4903598503.251703\n",
      "4852104419.427055\n",
      "4801635067.870518\n",
      "4752170056.409955\n",
      "4703689398.677459\n",
      "4656173506.033836\n",
      "4609603179.653826\n",
      "4563959602.768773\n",
      "4519224333.063735\n",
      "4475379295.225829\n",
      "4432406773.640896\n",
      "4390289405.235501\n",
      "4349010172.461375\n",
      "4308552396.419453\n",
      "4268899730.1207666\n",
      "4230036151.8814225\n",
      "4191945958.849041\n",
      "4154613760.658007\n",
      "4118024473.2109733\n",
      "4082163312.5841346\n",
      "4047015789.053771\n",
      "4012567701.2416606\n",
      "3978805130.3770123\n",
      "3945714434.672572\n",
      "3913282243.812647\n",
      "3881495453.550835\n",
      "3850341220.4152346\n",
      "3819806956.5190334\n",
      "3789880324.4743643\n",
      "3760549232.407387\n",
      "3731801829.0725393\n",
      "3703626499.0640564\n",
      "3676011858.1227417\n",
      "3648946748.5361576\n",
      "3622420234.630349\n",
      "3596421598.3512664\n",
      "3570940334.934136\n",
      "3545966148.6590056\n",
      "3521488948.6907525\n",
      "3497498845.0018682\n",
      "3473986144.376393\n",
      "3450941346.493365\n",
      "3428355140.088208\n",
      "3406218399.190513\n",
      "3384522179.436683\n",
      "3363257714.4559526\n",
      "3342416412.32834\n",
      "3321989852.1130676\n",
      "3301969780.4460783\n",
      "3282348108.2052617\n",
      "3263116907.242038\n",
      "3244268407.1779823\n",
      "3225794992.265201\n",
      "3207689198.309185\n",
      "3189943709.6528926\n",
      "3172551356.220861\n",
      "3155505110.6221256\n",
      "3138798085.3108068\n",
      "3122423529.8031816\n",
      "3106374827.9501586\n",
      "3090645495.2640095\n",
      "3075229176.2983165\n",
      "3060119642.0800405\n",
      "3045310787.5927076\n",
      "3030796629.3096733\n",
      "3016571302.776471\n",
      "3002629060.2412796\n",
      "2988964268.332539\n",
      "2975571405.782783\n",
      "2962445061.1977654\n",
      "2949579930.869989\n",
      "2936970816.6357365\n",
      "2924612623.7747464\n",
      "2912500358.951689\n",
      "2900629128.1986094\n",
      "2888994134.937518\n",
      "2877590678.0423217\n",
      "2866414149.9393396\n",
      "2855460034.745606\n",
      "2844723906.4442286\n",
      "2834201427.096048\n",
      "2823888345.086897\n",
      "2813780493.409728\n",
      "2803873787.9809337\n",
      "2794164225.990174\n",
      "2784647884.283029\n",
      "2775320917.7758584\n",
      "2766179557.9021783\n",
      "2757220111.089987\n",
      "2748438957.269356\n",
      "2739832548.4097576\n",
      "2731397407.0864635\n",
      "2723130125.0755033\n",
      "2715027361.976561\n",
      "2707085843.863287\n",
      "2699302361.960469\n",
      "2691673771.347517\n",
      "2684196989.6877623\n",
      "2676868995.983036\n",
      "2669686829.3530345\n",
      "2662647587.8389697\n",
      "2655748427.2310348\n",
      "2648986559.919197\n",
      "2642359253.7668667\n",
      "2635863831.0069656\n",
      "2629497667.159988\n",
      "2623258189.9735656\n",
      "2617142878.3831525\n",
      "2611149261.4933887\n",
      "2605274917.5797305\n",
      "2599517473.1099553\n",
      "2593874601.7851267\n",
      "2588344023.599663\n",
      "2582923503.9200892\n",
      "2577610852.5821404\n",
      "2572403923.0058165\n",
      "2567300611.3280606\n",
      "2562298855.552693\n",
      "2557396634.7172556\n",
      "2552591968.0764422\n",
      "2547882914.3017817\n",
      "2543267570.6972356\n",
      "2538744072.430421\n",
      "2534310591.7791166\n",
      "2529965337.3927727\n",
      "2525706553.568717\n",
      "2521532519.54276\n",
      "2517441548.79392\n",
      "2513431988.3629813\n",
      "2509502218.184619\n",
      "2505650650.4328055\n",
      "2501875728.879253\n",
      "2498175928.2646165\n",
      "2494549753.68221\n",
      "2490995739.973995\n",
      "2487512451.138574\n",
      "2484098479.750977\n",
      "2480752446.3939934\n",
      "2477472999.1008134\n",
      "2474258812.808767\n",
      "2471108588.823933\n",
      "2468021054.2963967\n",
      "2464994961.7059593\n",
      "2462029088.3580713\n",
      "2459122235.889806\n",
      "2456273229.785659\n",
      "2453480918.9029846\n",
      "2450744175.006876\n",
      "2448061892.3143005\n",
      "2445432987.047306\n",
      "2442856396.995126\n",
      "2440331081.0849824\n",
      "2437856018.9614515\n",
      "2435430210.574179\n",
      "gonna stop here 314\n"
     ]
    },
    {
     "data": {
      "image/png": "[encoded data removed]",
      "text/plain": [
       "<Figure size 432x288 with 1 Axes>"
      ]
     },
     "metadata": {
      "needs_background": "light"
     },
     "output_type": "display_data"
    }
   ],
   "source": [
    "# TODO : Définir la déscente du gradient\n",
    "def gradient_descent2(X, Y, theta, nb_iter, learning_rate, affich = True, seuil=0.001):\n",
    "    couts = []\n",
    "    theta1 = theta.copy()\n",
    "    couts.append(J(X, Y, theta1))\n",
    "    \n",
    "    if (affich):\n",
    "        afficher_droite(X, Y, theta1)\n",
    "    \n",
    "    # TODO Définir l'algorithme de la descente de gradient\n",
    "    for i in range(nb_iter):\n",
    "        cout=J(X, Y, theta1)\n",
    "        couts.append(cout)\n",
    "        print(couts[i])\n",
    "        if ((i>1) and ((couts[i-1]-couts[i])/couts[i]<seuil)):\n",
    "            print(\"gonna stop here\", i)\n",
    "            break;\n",
    "        theta1=theta1- learning_rate*gradient(X, Y, theta1)\n",
    "        \n",
    "    if(affich):\n",
    "        afficher_droite(X, Y, theta1)\n",
    "\n",
    "    return theta1, couts\n",
    "\n",
    "theta_optimaux, couts = gradient_descent2(X_train, Y_train, theta, NB_ITER, LEARNING_RATE, affich = False)\n",
    "plt.plot(couts)\n",
    "plt.show()"
   ]
  },
  {
   "cell_type": "markdown",
   "metadata": {},
   "source": [
    "**Question 2 suite** : \n",
    "1. Donner le nombre des itérations nécessaire pour la convergence (à peu près)\n",
    "1. Quel est l'intéret de fixer un nombre des itérations ?\n",
    "1. Quel est l'intéret d'utiliser le taux d'amélioration ?"
   ]
  },
  {
   "cell_type": "markdown",
   "metadata": {},
   "source": [
    "**Réponse 2** : \n",
    ">On utilisant comme taux de changement (la valeur précedente- la valeur courante)/la valeur courante:\n",
    "L'algorithme c'est arrété apres 331 itérations, donc 331 itérations sont nécessaire pour la convergence\n",
    "\n",
    ">L'interet de fixer un nombre d'itérations : est d'éviter une boucle infinie si le gradient ne converge pas ou une boucle qui prends beaucoup de temps si la convergence est lente (par exemple pour un learning rate tres faible)\n",
    "\n",
    ">L'interet d'utiliser le taux d'amélioration : est d'arrété l'algorithme dés que le cout ne s'améliore pas assez par rapport a une valeur qu'on fixera au préalable selon le context "
   ]
  },
  {
   "cell_type": "markdown",
   "metadata": {},
   "source": [
    "\n",
    "**Question 3** : \n",
    "\n",
    "Essayer de changer les valeurs du learning_rate,\n",
    "Afficher le graphe des coûts (J) par rapport aux différents learning_rate. \n",
    "\n",
    "- Que remarquez-vous ?\n"
   ]
  },
  {
   "cell_type": "code",
   "execution_count": 20,
   "metadata": {},
   "outputs": [
    {
     "data": {
      "image/png": "[encoded data removed]",
      "text/plain": [
       "<Figure size 432x288 with 1 Axes>"
      ]
     },
     "metadata": {
      "needs_background": "light"
     },
     "output_type": "display_data"
    }
   ],
   "source": [
    "# TODO : Tester plusieurs valeurs du learning_rate : \n",
    "\n",
    "#TODO iter_rate = 0.1\n",
    "_,couts1 = gradient_descent(X_train, Y_train, theta, NB_ITER, 0.1, affich = False)\n",
    "#TODO iter_rate = 0.05\n",
    "_,couts2 = gradient_descent(X_train, Y_train, theta, NB_ITER, 0.05, affich = False)\n",
    "#TODO iter_rate = 0.01\n",
    "_,couts3 = gradient_descent(X_train, Y_train, theta, NB_ITER, 0.01, affich = False)\n",
    "\n",
    "# Affichage du graphe des coûts par rapport aux learning_rate :\n",
    "\n",
    "plt.plot(couts1, label = \"0.1\")\n",
    "plt.plot(couts2, label = \"0.05\")\n",
    "plt.plot(couts3, label = \"0.01\")\n",
    "plt.legend()\n",
    "#plt.autoscale()\n",
    "plt.show()"
   ]
  },
  {
   "cell_type": "markdown",
   "metadata": {},
   "source": [
    "**Réponse 3** : On remarque que le cout converge plus rapidement quand le learning rate alpha est plus petit"
   ]
  },
  {
   "cell_type": "markdown",
   "metadata": {},
   "source": [
    "**Question 4** : \n",
    "\n",
    "Appliquer la décente du gradient sur les 3 initialisations des paramètres (thetas) : \n",
    "\n",
    "- Initialisation aléatoire \n",
    "- Initialisation à zero \n",
    "- Initialisation à un \n",
    "\n",
    "Est-ce que l'initialisation des paramètres affecte la convergence ?\n"
   ]
  },
  {
   "cell_type": "code",
   "execution_count": 21,
   "metadata": {},
   "outputs": [
    {
     "data": {
      "image/png": "[encoded data removed]",
      "text/plain": [
       "<Figure size 432x288 with 1 Axes>"
      ]
     },
     "metadata": {
      "needs_background": "light"
     },
     "output_type": "display_data"
    }
   ],
   "source": [
    "\n",
    "# TODO Initialisation aléatoire \n",
    "couts1 = []\n",
    "_,couts1 = gradient_descent(X_train, Y_train, theta, NB_ITER, LEARNING_RATE, affich = False)\n",
    "\n",
    "# TODO Initialisation à zero \n",
    "couts2 = []\n",
    "thetazero=np.zeros((X_train.shape[1]))\n",
    "_,couts2 = gradient_descent(X_train, Y_train, thetazero, NB_ITER, LEARNING_RATE, affich = False)\n",
    "\n",
    "# TODO Initialisation à un \n",
    "couts3 = []\n",
    "thetaones=np.ones((X_train.shape[1]))\n",
    "_,couts3 = gradient_descent(X_train, Y_train, thetaones, NB_ITER, LEARNING_RATE, affich = False)\n",
    "\n",
    "# Affichage du graphe des coûts par rapport aux learning_rate :\n",
    "\n",
    "plt.plot(couts1, label = \"Aleatoire\")\n",
    "plt.plot(couts2, label = \"zeroes\")\n",
    "plt.plot(couts3, label = \"uns\")\n",
    "plt.legend()\n",
    "#plt.autoscale()\n",
    "plt.show()\n"
   ]
  },
  {
   "cell_type": "markdown",
   "metadata": {},
   "source": [
    "**Réponse 4** : \n",
    "\n",
    "<input type=\"checkbox\"> Oui\n",
    "<input type=\"checkbox\" checked> NON\n",
    "\n",
    "Non, l'initialisation des theta n'affecte pas la convergence"
   ]
  },
  {
   "cell_type": "markdown",
   "metadata": {},
   "source": [
    "## II Régression Polynomiale \n",
    "\n",
    "Dans cette partie, on essaye d'appliquer une régression polynomiale.  "
   ]
  },
  {
   "cell_type": "markdown",
   "metadata": {},
   "source": [
    "## II.1 Régression Linéaire (pour comparaison) "
   ]
  },
  {
   "cell_type": "code",
   "execution_count": 22,
   "metadata": {},
   "outputs": [
    {
     "data": {
      "text/plain": [
       "array([[ 1.        , -0.5119861 ],\n",
       "       [ 1.        ,  0.43878864],\n",
       "       [ 1.        , -0.73066429]])"
      ]
     },
     "execution_count": 22,
     "metadata": {},
     "output_type": "execute_result"
    }
   ],
   "source": [
    "# TODO initialiser theta\n",
    "theta1 = np.random.rand((X_train.shape[1]))\n",
    "\n",
    "#Application de la régression linéaire \n",
    "theta1 , couts1 = gradient_descent(X_train, Y_train, theta1, NB_ITER, LEARNING_RATE, affich=False)\n",
    "\n",
    "X_train[:3, :]"
   ]
  },
  {
   "cell_type": "markdown",
   "metadata": {},
   "source": [
    "## II.2 Régression Polynomiale (degré 2)"
   ]
  },
  {
   "cell_type": "code",
   "execution_count": 23,
   "metadata": {},
   "outputs": [
    {
     "name": "stdout",
     "output_type": "stream",
     "text": [
      "(39, 1)\n"
     ]
    },
    {
     "data": {
      "text/plain": [
       "array([[ 1.        , -0.5119861 ,  0.26212977],\n",
       "       [ 1.        ,  0.43878864,  0.19253547],\n",
       "       [ 1.        , -0.73066429,  0.53387031]])"
      ]
     },
     "execution_count": 23,
     "metadata": {},
     "output_type": "execute_result"
    }
   ],
   "source": [
    "#TODO créer des données similaires à X_train mais avec une colonne X^2\n",
    "\n",
    "X2=np.square(X_train[:,1]).reshape(X_train.shape[0],1)\n",
    "print(X2.shape)\n",
    "X_train2 = np.concatenate((X_train,X2), axis=1)\n",
    "\n",
    "# TODO initialiser theta\n",
    "theta2 = np.random.rand((X_train2.shape[1]))\n",
    "\n",
    "#Application de la régression linéaire \n",
    "theta2 , couts2 = gradient_descent(X_train2, Y_train, theta2, NB_ITER, LEARNING_RATE, affich=False)\n",
    "\n",
    "X_train2[:3, :]"
   ]
  },
  {
   "cell_type": "markdown",
   "metadata": {},
   "source": [
    "## II.3 Régression Plynomiale (degré 3)"
   ]
  },
  {
   "cell_type": "code",
   "execution_count": 24,
   "metadata": {},
   "outputs": [
    {
     "data": {
      "text/plain": [
       "array([[ 1.        , -0.5119861 ,  0.26212977, -0.1342068 ],\n",
       "       [ 1.        ,  0.43878864,  0.19253547,  0.08448237],\n",
       "       [ 1.        , -0.73066429,  0.53387031, -0.39007997]])"
      ]
     },
     "execution_count": 24,
     "metadata": {},
     "output_type": "execute_result"
    }
   ],
   "source": [
    "#TODO créer des données similaires à X_train2 mais avec une colonne X^3\n",
    "X_3=np.power(X_train[:,1],3).reshape(X_train.shape[0],1)\n",
    "X_train3 = np.concatenate((X_train2,X_3), axis=1)\n",
    "\n",
    "\n",
    "# TODO initialiser theta\n",
    "theta3 = np.random.rand((X_train3.shape[1]))\n",
    "\n",
    "#Application de la régression linéaire \n",
    "theta3 , couts3 = gradient_descent(X_train3, Y_train, theta3, NB_ITER, LEARNING_RATE, affich=False)\n",
    "\n",
    "X_train3[:3, :]"
   ]
  },
  {
   "cell_type": "markdown",
   "metadata": {},
   "source": [
    "## II.4 Comparaison des évolutions des coûts\n"
   ]
  },
  {
   "cell_type": "code",
   "execution_count": 25,
   "metadata": {},
   "outputs": [
    {
     "data": {
      "image/png": "[encoded data removed]",
      "text/plain": [
       "<Figure size 432x288 with 1 Axes>"
      ]
     },
     "metadata": {
      "needs_background": "light"
     },
     "output_type": "display_data"
    }
   ],
   "source": [
    "# Affichage du graphe des coûts par rapport aux degré des polynomes :\n",
    "\n",
    "plt.plot(couts1, label = \"a X + b\")\n",
    "plt.plot(couts2, label = \"a X + b X^2 + c\")\n",
    "plt.plot(couts3, label = \"a X + b X^2 + c X^3 + d\")\n",
    "plt.legend()\n",
    "#plt.autoscale()\n",
    "plt.show()"
   ]
  },
  {
   "cell_type": "markdown",
   "metadata": {},
   "source": [
    "**Question** : Que remarquez-vous ?\n",
    "\n",
    "**Réponse** : \n",
    "On remarque que la regression linéaire converge plus rapidement."
   ]
  },
  {
   "cell_type": "markdown",
   "metadata": {},
   "source": [
    "## II.5 Comparaison des estimateurs "
   ]
  },
  {
   "cell_type": "code",
   "execution_count": 26,
   "metadata": {},
   "outputs": [
    {
     "data": {
      "image/png": "[encoded data removed]",
      "text/plain": [
       "<Figure size 432x288 with 1 Axes>"
      ]
     },
     "metadata": {
      "needs_background": "light"
     },
     "output_type": "display_data"
    }
   ],
   "source": [
    "# Affichage des estimations :\n",
    "\n",
    "plt.scatter(X_train[:,1], Y_train, color=\"blue\")\n",
    "plt.plot(X_train[:,1], predire(X_train, theta1), label = \"a X + b\", color=\"red\")\n",
    "plt.plot(X_train[:,1], predire(X_train2, theta2), label = \"a X + b X^2 + c\", color=\"green\")\n",
    "plt.plot(X_train[:,1], predire(X_train3, theta3), label = \"a X + b X^2 + c X^3 + d\", color=\"orange\")\n",
    "plt.legend()\n",
    "#plt.autoscale()\n",
    "plt.show()"
   ]
  },
  {
   "cell_type": "markdown",
   "metadata": {},
   "source": [
    "Le problème avec le graphe est que les données doivent être ordonnées selon la superficie"
   ]
  },
  {
   "cell_type": "code",
   "execution_count": 27,
   "metadata": {},
   "outputs": [
    {
     "data": {
      "image/png": "[encoded data removed]",
      "text/plain": [
       "<Figure size 432x288 with 1 Axes>"
      ]
     },
     "metadata": {
      "needs_background": "light"
     },
     "output_type": "display_data"
    }
   ],
   "source": [
    "# Trouver les indexes ordonnées \n",
    "idx = X_train[:,1].argsort()\n",
    "\n",
    "X_train = X_train[idx]\n",
    "X_train2 = X_train2[idx]\n",
    "X_train3 = X_train3[idx]\n",
    "Y_train = Y_train[idx] #pas besoin de ça, mais pour avoir les Y alignés avec les X\n",
    "\n",
    "plt.scatter(X_train[:,1], Y_train, color=\"blue\")\n",
    "plt.plot(X_train[:,1], predire(X_train, theta1), label = \"a X + b\", color=\"red\")\n",
    "plt.plot(X_train[:,1], predire(X_train2, theta2), label = \"a X + b X^2 + c\", color=\"green\")\n",
    "plt.plot(X_train[:,1], predire(X_train3, theta3), label = \"a X + b X^2 + c X^3 + d\", color=\"orange\")\n",
    "plt.legend()\n",
    "#plt.autoscale()\n",
    "plt.show()\n"
   ]
  },
  {
   "cell_type": "markdown",
   "metadata": {},
   "source": [
    "## II.6 Test des modèles (Performance)\n",
    "\n",
    "Ici, on va tester les modèles : theta1, theta2 et theta3 sur (X_test, Y_test) afin de décider le meilleur modèle dans le cas de prédidication des prix des maisons en utilisant la surface. \n",
    "\n",
    "Pour ce faire, on utilise **Root Mean Squared Error (RMSE)**. Notre fonction de cout est, en réalité, **Mean Squared Error (RMSE)**. Donc, il suffit d'appliquer la racine carrée"
   ]
  },
  {
   "cell_type": "code",
   "execution_count": 28,
   "metadata": {},
   "outputs": [
    {
     "data": {
      "text/plain": [
       "array([300208.01642408,  98234.1775218 ,  44551.88539784, -12156.92052436])"
      ]
     },
     "execution_count": 28,
     "metadata": {},
     "output_type": "execute_result"
    }
   ],
   "source": [
    "theta3\n"
   ]
  },
  {
   "cell_type": "code",
   "execution_count": 33,
   "metadata": {},
   "outputs": [
    {
     "data": {
      "text/plain": [
       "(152420004.462783, 52937295165.08406, 68280507623335.13)"
      ]
     },
     "execution_count": 33,
     "metadata": {},
     "output_type": "execute_result"
    }
   ],
   "source": [
    "# TODO tester les trois modèles en utilisant la fonction \n",
    "ones = np.ones([X_test.shape[0],1])\n",
    "\n",
    "if X_test.shape[1]==1:\n",
    "    X_test = np.concatenate((ones, X_test), axis=1)\n",
    "\n",
    "erreur1 = np.sqrt(J(X_test, Y_test, theta1))\n",
    "\n",
    "\n",
    "X2t=np.square(X_test[:,1]).reshape(X_test.shape[0],1)\n",
    "X_test2 = np.concatenate((X_test,X2t), axis=1)\n",
    "erreur2 = np.sqrt(J(X_test2, Y_test, theta2))\n",
    "\n",
    "X3t=np.power(X_test[:,1],3).reshape(X_test.shape[0],1)\n",
    "X_test3 = np.concatenate((X_test2,X3t), axis=1)\n",
    "erreur3 = np.sqrt(J(X_test3, Y_test, theta3))\n",
    "\n",
    "erreur1, erreur2, erreur3\n"
   ]
  },
  {
   "cell_type": "markdown",
   "metadata": {},
   "source": [
    "**Question** : Quel est le meilleur modèle selon la métrique et les données utilisées ?\n",
    "\n",
    "**Réponse** : Selon les données et la métrique utilisé le meilleur modéle est le premier ie: la regression linéaire simple avec h: y=ax+b"
   ]
  },
  {
   "cell_type": "markdown",
   "metadata": {},
   "source": [
    "# III Régression lineaire avec scikit-learn \n",
    "\n",
    "\n",
    "On poursuit avec les données des prix maisons : "
   ]
  },
  {
   "cell_type": "markdown",
   "metadata": {},
   "source": [
    "## III.1 Préparation des données"
   ]
  },
  {
   "cell_type": "code",
   "execution_count": 34,
   "metadata": {},
   "outputs": [],
   "source": [
    "# Diviser les données \n",
    "from sklearn.model_selection import train_test_split  \n",
    "X = houses.iloc[:, :-1].values # Premières colonnes \n",
    "Y = houses.iloc[:,-1].values # Dernière colonne \n",
    "X_train, X_test, Y_train, Y_test = train_test_split(X, Y, test_size=0.2, random_state=0)  "
   ]
  },
  {
   "cell_type": "markdown",
   "metadata": {},
   "source": [
    "## III.2 Régression linéaire"
   ]
  },
  {
   "cell_type": "code",
   "execution_count": 35,
   "metadata": {},
   "outputs": [
    {
     "data": {
      "text/plain": [
       "LinearRegression(copy_X=True, fit_intercept=True, n_jobs=None, normalize=True)"
      ]
     },
     "execution_count": 35,
     "metadata": {},
     "output_type": "execute_result"
    }
   ],
   "source": [
    "# Entraîner le modèle \n",
    "from sklearn.linear_model import LinearRegression  \n",
    "regressor1 = LinearRegression(normalize=True)  \n",
    "regressor1.fit(X_train, Y_train)  "
   ]
  },
  {
   "cell_type": "code",
   "execution_count": 36,
   "metadata": {},
   "outputs": [
    {
     "name": "stdout",
     "output_type": "stream",
     "text": [
      "86935.28241026538\n"
     ]
    }
   ],
   "source": [
    "# Le coefficient des constantes\n",
    "print(regressor1.intercept_)  "
   ]
  },
  {
   "cell_type": "code",
   "execution_count": 37,
   "metadata": {},
   "outputs": [
    {
     "name": "stdout",
     "output_type": "stream",
     "text": [
      "[125.10109447]\n"
     ]
    }
   ],
   "source": [
    "# Les coéfficients des variables (caractéristiques)\n",
    "print(regressor1.coef_)  "
   ]
  },
  {
   "cell_type": "code",
   "execution_count": null,
   "metadata": {},
   "outputs": [],
   "source": [
    "plt.scatter(X_train, Y_train, color=\"blue\")\n",
    "plt.plot(X, regressor1.predict(X), color=\"red\")\n",
    "plt.show()"
   ]
  },
  {
   "cell_type": "code",
   "execution_count": 38,
   "metadata": {},
   "outputs": [
    {
     "data": {
      "image/png": "[encoded data removed]",
      "text/plain": [
       "<Figure size 432x288 with 1 Axes>"
      ]
     },
     "metadata": {
      "needs_background": "light"
     },
     "output_type": "display_data"
    }
   ],
   "source": [
    "# Prédire les valeurs du X_test \n",
    "Y_pred = regressor1.predict(X_test)  \n",
    "\n",
    "plt.scatter(X_train, Y_train, color=\"blue\")\n",
    "plt.scatter(X_test, Y_test, color=\"green\")\n",
    "plt.plot(X, regressor1.predict(X), color=\"red\")\n",
    "plt.scatter(X_test, Y_pred, color=\"violet\")\n",
    "plt.show()"
   ]
  },
  {
   "cell_type": "markdown",
   "metadata": {},
   "source": [
    "## III.3 Régression polynomiale\n",
    "\n",
    "La régression polynomiale est un cas spécial de la régression linéaire. On peut créer de nouvelles caractéristiques dans l'étape de préparation des données en multipliant les valeurs des anciennes caractéristiques. "
   ]
  },
  {
   "cell_type": "markdown",
   "metadata": {},
   "source": [
    "### III.3.1 Créer des nouvelles caractéristiques\n"
   ]
  },
  {
   "cell_type": "code",
   "execution_count": 39,
   "metadata": {},
   "outputs": [
    {
     "data": {
      "text/plain": [
       "array([[2.526000e+03, 6.380676e+06],\n",
       "       [2.040000e+03, 4.161600e+06],\n",
       "       [2.637000e+03, 6.953769e+06]])"
      ]
     },
     "execution_count": 39,
     "metadata": {},
     "output_type": "execute_result"
    }
   ],
   "source": [
    "from sklearn.preprocessing import PolynomialFeatures\n",
    "\n",
    "poly2 = PolynomialFeatures(degree=2, include_bias=False)\n",
    "\n",
    "X_train2 = poly2.fit_transform(X_train)\n",
    "X_test2 = poly2.fit_transform(X_test)\n",
    "\n",
    "X_train2[:3, :]"
   ]
  },
  {
   "cell_type": "code",
   "execution_count": 40,
   "metadata": {},
   "outputs": [
    {
     "data": {
      "text/plain": [
       "array([[2.52600000e+03, 6.38067600e+06, 1.61175876e+10, 4.07130262e+13,\n",
       "        1.02841104e+17, 2.59776629e+20, 6.56195766e+23, 1.65755050e+27,\n",
       "        4.18697257e+30, 1.05762927e+34],\n",
       "       [2.04000000e+03, 4.16160000e+06, 8.48966400e+09, 1.73189146e+13,\n",
       "        3.53305857e+16, 7.20743948e+19, 1.47031765e+23, 2.99944802e+26,\n",
       "        6.11887395e+29, 1.24825029e+33],\n",
       "       [2.63700000e+03, 6.95376900e+06, 1.83370889e+10, 4.83549033e+13,\n",
       "        1.27511880e+17, 3.36248828e+20, 8.86688158e+23, 2.33819667e+27,\n",
       "        6.16582463e+30, 1.62592795e+34]])"
      ]
     },
     "execution_count": 40,
     "metadata": {},
     "output_type": "execute_result"
    }
   ],
   "source": [
    "poly10 = PolynomialFeatures(degree=10, include_bias=False)\n",
    "\n",
    "X_train10 = poly10.fit_transform(X_train)\n",
    "X_test10 = poly10.fit_transform(X_test)\n",
    "\n",
    "X_train10[:3, :]"
   ]
  },
  {
   "cell_type": "markdown",
   "metadata": {},
   "source": [
    "### III.3.2 Entrainer les deux modèles"
   ]
  },
  {
   "cell_type": "code",
   "execution_count": 41,
   "metadata": {},
   "outputs": [
    {
     "data": {
      "text/plain": [
       "LinearRegression(copy_X=True, fit_intercept=True, n_jobs=None, normalize=True)"
      ]
     },
     "execution_count": 41,
     "metadata": {},
     "output_type": "execute_result"
    }
   ],
   "source": [
    "# Regrésseur polynomial de degré 2\n",
    "regressor2 = LinearRegression(normalize=True)  \n",
    "regressor2.fit(X_train2, Y_train)\n",
    "\n",
    "# Regrésseur polynomial de degré 10\n",
    "regressor10 = LinearRegression(normalize=True)  \n",
    "regressor10.fit(X_train10, Y_train)"
   ]
  },
  {
   "cell_type": "markdown",
   "metadata": {},
   "source": [
    "## III.5 Evaluation des modèles \n"
   ]
  },
  {
   "cell_type": "code",
   "execution_count": 42,
   "metadata": {},
   "outputs": [],
   "source": [
    "Y_pred1 = regressor1.predict(X_test)\n",
    "Y_pred2 = regressor2.predict(X_test2)\n",
    "Y_pred10 = regressor10.predict(X_test10)"
   ]
  },
  {
   "cell_type": "markdown",
   "metadata": {},
   "source": [
    "### III.5.1 Explained variance score\n",
    "\n",
    "$$explained\\_variance(y, ŷ) = 1 - \\frac{Var(y - ŷ)}{Var(y)}$$"
   ]
  },
  {
   "cell_type": "code",
   "execution_count": 43,
   "metadata": {},
   "outputs": [
    {
     "data": {
      "text/plain": [
       "(0.6849761299940034, 0.6714566755821236, 0.15978546972358676)"
      ]
     },
     "execution_count": 43,
     "metadata": {},
     "output_type": "execute_result"
    }
   ],
   "source": [
    "from sklearn.metrics import  explained_variance_score\n",
    "\n",
    "erreur1 = explained_variance_score(Y_test, Y_pred1)\n",
    "erreur2 = explained_variance_score(Y_test, Y_pred2)\n",
    "erreur10 = explained_variance_score(Y_test, Y_pred10)\n",
    "\n",
    "erreur1, erreur2, erreur10"
   ]
  },
  {
   "cell_type": "markdown",
   "metadata": {},
   "source": [
    "### III.5.2 Mean squared error\n",
    "\n",
    "$$MSE(y, ŷ) = \\frac{1}{nbr\\_echantillons} \\sum\\limits_{i=0}^{nbr\\_echantillons - 1} (y - ŷ)^2$$"
   ]
  },
  {
   "cell_type": "code",
   "execution_count": 44,
   "metadata": {},
   "outputs": [
    {
     "data": {
      "text/plain": [
       "(5821820983.85004, 6165717495.537205, 15794233267.366587)"
      ]
     },
     "execution_count": 44,
     "metadata": {},
     "output_type": "execute_result"
    }
   ],
   "source": [
    "from sklearn.metrics import mean_squared_error\n",
    "\n",
    "erreur1 = mean_squared_error(Y_test, Y_pred1)\n",
    "erreur2 = mean_squared_error(Y_test, Y_pred2)\n",
    "erreur10 = mean_squared_error(Y_test, Y_pred10)\n",
    "\n",
    "erreur1, erreur2, erreur10"
   ]
  },
  {
   "cell_type": "markdown",
   "metadata": {},
   "source": [
    "### III.5.3 Mean absolute error\n",
    "\n",
    "$$MAE(y, ŷ) = \\frac{1}{nbr\\_echantillons} \\sum\\limits_{i=0}^{nbr\\_echantillons - 1} |y - ŷ|$$"
   ]
  },
  {
   "cell_type": "code",
   "execution_count": 45,
   "metadata": {},
   "outputs": [
    {
     "data": {
      "text/plain": [
       "(69100.2636202619, 71784.05757044809, 100288.436120224)"
      ]
     },
     "execution_count": 45,
     "metadata": {},
     "output_type": "execute_result"
    }
   ],
   "source": [
    "from sklearn.metrics import mean_absolute_error\n",
    "\n",
    "erreur1 = mean_absolute_error(Y_test, Y_pred1)\n",
    "erreur2 = mean_absolute_error(Y_test, Y_pred2)\n",
    "erreur10 = mean_absolute_error(Y_test, Y_pred10)\n",
    "\n",
    "erreur1, erreur2, erreur10"
   ]
  },
  {
   "cell_type": "markdown",
   "metadata": {},
   "source": [
    "### III.5.4 Autres\n",
    "\n",
    "Consulter https://scikit-learn.org/stable/modules/model_evaluation.html#regression-metrics"
   ]
  },
  {
   "cell_type": "markdown",
   "metadata": {},
   "source": [
    "## III.6 Persistance des modèles \n",
    "\n",
    "Après avoir entrainé un modèle, il est souhaitable de le conserver pour un usage ultérieur sans avoir besoin d'entrainer une deuxième fois. Il y a deux façons de le faire selon la doc de scikit-learn (https://scikit-learn.org/stable/modules/model_persistence.html)\n",
    "\n",
    "- la sérialisation pickle\n",
    "- la sérialisation joblib\n",
    "\n",
    "La deuxième est recommandée par scikit-learn. Après avoir entrainer notre modèle, on le sauvegarde."
   ]
  },
  {
   "cell_type": "code",
   "execution_count": 46,
   "metadata": {},
   "outputs": [],
   "source": [
    "from joblib import dump, load\n",
    "\n",
    "# Pour sauvegarder le modèle\n",
    "dump(regressor1, \"mon_modele.joblib\")\n",
    "\n",
    "# Pour Récupérer le modèle\n",
    "regressor_past = load(\"mon_modele.joblib\")"
   ]
  }
 ],
 "metadata": {
  "kernelspec": {
   "display_name": "Python 3",
   "language": "python",
   "name": "python3"
  },
  "language_info": {
   "codemirror_mode": {
    "name": "ipython",
    "version": 3
   },
   "file_extension": ".py",
   "mimetype": "text/x-python",
   "name": "python",
   "nbconvert_exporter": "python",
   "pygments_lexer": "ipython3",
   "version": "3.7.4"
  }
 },
 "nbformat": 4,
 "nbformat_minor": 2
}
